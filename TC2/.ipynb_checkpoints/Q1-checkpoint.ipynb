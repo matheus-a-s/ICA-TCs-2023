{
 "cells": [
  {
   "cell_type": "code",
   "execution_count": 32,
   "id": "cdda0b67-d5be-4d82-8fc3-ad66b48b827f",
   "metadata": {},
   "outputs": [
    {
     "data": {
      "text/plain": [
       "array([[  0. ,   0. ],\n",
       "       [  0. ,   0. ],\n",
       "       [  0. ,   0. ],\n",
       "       ...,\n",
       "       [ 14.1, 508. ],\n",
       "       [ 14.3, 508. ],\n",
       "       [ 14.4, 503. ]])"
      ]
     },
     "execution_count": 32,
     "metadata": {},
     "output_type": "execute_result"
    }
   ],
   "source": [
    "import numpy as np\n",
    "\n",
    "# Carregando dataset\n",
    "dataset = np.loadtxt(\"dataset/aerogerador.dat\")\n",
    "dataset"
   ]
  },
  {
   "cell_type": "code",
   "execution_count": 33,
   "id": "3e18a861-f759-4892-8db5-22313ab70e55",
   "metadata": {},
   "outputs": [
    {
     "data": {
      "text/plain": [
       "((2250, 1), (2250, 1))"
      ]
     },
     "execution_count": 33,
     "metadata": {},
     "output_type": "execute_result"
    }
   ],
   "source": [
    "vel = np.expand_dims(dataset[:, 0], axis=1)  # Velocidades\n",
    "Pot = np.expand_dims(dataset[:, 1], axis=1)  # Potências\n",
    "\n",
    "vel.shape, Pot.shape"
   ]
  },
  {
   "cell_type": "code",
   "execution_count": 41,
   "id": "f4c013f4-7d5b-4376-a0e9-5b725ee990c3",
   "metadata": {},
   "outputs": [],
   "source": [
    "from sklearn.metrics import r2_score\n",
    "\n",
    "def criteria_metrics(type, y_true, y_pred, X, num_coeff):\n",
    "    if type == \"R2\":\n",
    "        return r2_score(y_true, y_pred)\n",
    "    elif type == \"Adj_R2\":\n",
    "        return 1 - (1 - r2_score(y_true, y_pred)) * ((len(y_true) - 1) / (len(y_true) - X.shape[1] - 1))\n",
    "    elif type == \"AIC\":\n",
    "        res = y_true - y_pred\n",
    "        sum_res = np.sum(res**2)\n",
    "        return len(y_true) * np.log(sum_res) + 2 * num_coeff\n",
    "\n",
    "def polynomial_matrix(k, X):\n",
    "    if k == 1:\n",
    "        return np.column_stack((np.ones(X.shape[0]), X)) \n",
    "    else:\n",
    "        print(k)\n",
    "        polynomials = [(X ** pol) for pol in range(0, k + 1)]\n",
    "        return np.column_stack(polynomials)\n",
    "        \n",
    "def estimator_by_type(type, X, y):\n",
    "    if type == 'OLS':\n",
    "        return np.linalg.pinv(X) @ y\n",
    "    elif type == 'RLS':\n",
    "        return np.linalg.inv(X.T @ X + 0.01 * np.eye(X.shape[1])) @ X.T @ y           \n",
    "\n",
    "def train_multi_linear_regressor(X, y, least_square_type, criteria_type, degrees_list):\n",
    "    metrics_list = []\n",
    "    for degree in degrees_list:\n",
    "        X = polynomial_matrix(degree, X)\n",
    "        print(X.shape)\n",
    "        y = y.reshape(-1, 1)\n",
    "        \n",
    "        estimator = estimator_by_type(least_square_type, X, y)\n",
    "        y_pred = X @ estimator\n",
    "\n",
    "        metric = criteria_metrics(criteria_type, y, y_pred, X, estimator.shape[0])\n",
    "        print(\"k={}, metric={}\".format(degree, metric))\n",
    "        metrics_list.append(metric)\n",
    "        \n",
    "    return metrics_list"
   ]
  },
  {
   "cell_type": "code",
   "execution_count": 42,
   "id": "bc523edd-c7f0-42d0-afc2-6dc7993e513e",
   "metadata": {
    "scrolled": true
   },
   "outputs": [
    {
     "name": "stdout",
     "output_type": "stream",
     "text": [
      "(2250, 2)\n",
      "k=1, metric=0.9291604695978946\n",
      "2\n",
      "(2250, 6)\n",
      "k=2, metric=0.9434238833776911\n",
      "3\n",
      "(2250, 24)\n",
      "k=3, metric=0.9737249295820658\n",
      "4\n",
      "(2250, 120)\n",
      "k=4, metric=-3.374745466707135\n",
      "5\n",
      "(2250, 720)\n",
      "k=5, metric=-7.9798818040583015\n",
      "6\n",
      "(2250, 5040)\n"
     ]
    },
    {
     "name": "stderr",
     "output_type": "stream",
     "text": [
      "/tmp/ipykernel_79175/2202633953.py:18: RuntimeWarning: overflow encountered in power\n",
      "  polynomials = [(X ** pol) for pol in range(0, degree + 1)]\n"
     ]
    },
    {
     "ename": "LinAlgError",
     "evalue": "SVD did not converge",
     "output_type": "error",
     "traceback": [
      "\u001b[0;31m---------------------------------------------------------------------------\u001b[0m",
      "\u001b[0;31mLinAlgError\u001b[0m                               Traceback (most recent call last)",
      "Cell \u001b[0;32mIn[42], line 3\u001b[0m\n\u001b[1;32m      1\u001b[0m \u001b[38;5;66;03m# R2 para k = [1, 10]\u001b[39;00m\n\u001b[1;32m      2\u001b[0m degrees_list \u001b[38;5;241m=\u001b[39m [i \u001b[38;5;28;01mfor\u001b[39;00m i \u001b[38;5;129;01min\u001b[39;00m \u001b[38;5;28mrange\u001b[39m(\u001b[38;5;241m1\u001b[39m, \u001b[38;5;241m10\u001b[39m)]\n\u001b[0;32m----> 3\u001b[0m metrics \u001b[38;5;241m=\u001b[39m \u001b[43mtrain_multi_linear_regressor\u001b[49m\u001b[43m(\u001b[49m\u001b[43mX\u001b[49m\u001b[38;5;241;43m=\u001b[39;49m\u001b[43mvel\u001b[49m\u001b[43m,\u001b[49m\u001b[43m \u001b[49m\u001b[43my\u001b[49m\u001b[38;5;241;43m=\u001b[39;49m\u001b[43mPot\u001b[49m\u001b[43m,\u001b[49m\u001b[43m \u001b[49m\u001b[43mleast_square_type\u001b[49m\u001b[38;5;241;43m=\u001b[39;49m\u001b[38;5;124;43m\"\u001b[39;49m\u001b[38;5;124;43mOLS\u001b[39;49m\u001b[38;5;124;43m\"\u001b[39;49m\u001b[43m,\u001b[49m\u001b[43m \u001b[49m\u001b[43mcriteria_type\u001b[49m\u001b[38;5;241;43m=\u001b[39;49m\u001b[38;5;124;43m\"\u001b[39;49m\u001b[38;5;124;43mR2\u001b[39;49m\u001b[38;5;124;43m\"\u001b[39;49m\u001b[43m,\u001b[49m\u001b[43m \u001b[49m\u001b[43mdegrees_list\u001b[49m\u001b[38;5;241;43m=\u001b[39;49m\u001b[43mdegrees_list\u001b[49m\u001b[43m)\u001b[49m\n\u001b[1;32m      5\u001b[0m plt\u001b[38;5;241m.\u001b[39mplot(degrees_list, metrics, color\u001b[38;5;241m=\u001b[39m\u001b[38;5;124m'\u001b[39m\u001b[38;5;124mred\u001b[39m\u001b[38;5;124m'\u001b[39m, label\u001b[38;5;241m=\u001b[39m\u001b[38;5;124m'\u001b[39m\u001b[38;5;124mComparison\u001b[39m\u001b[38;5;124m'\u001b[39m)\n\u001b[1;32m      6\u001b[0m plt\u001b[38;5;241m.\u001b[39mtitle(\u001b[38;5;124m'\u001b[39m\u001b[38;5;124mMultiple Linear Regression (Ordinary Least Squares)\u001b[39m\u001b[38;5;124m'\u001b[39m)\n",
      "Cell \u001b[0;32mIn[41], line 34\u001b[0m, in \u001b[0;36mtrain_multi_linear_regressor\u001b[0;34m(X, y, least_square_type, criteria_type, degrees_list)\u001b[0m\n\u001b[1;32m     31\u001b[0m \u001b[38;5;28mprint\u001b[39m(X\u001b[38;5;241m.\u001b[39mshape)\n\u001b[1;32m     32\u001b[0m y \u001b[38;5;241m=\u001b[39m y\u001b[38;5;241m.\u001b[39mreshape(\u001b[38;5;241m-\u001b[39m\u001b[38;5;241m1\u001b[39m, \u001b[38;5;241m1\u001b[39m)\n\u001b[0;32m---> 34\u001b[0m estimator \u001b[38;5;241m=\u001b[39m \u001b[43mestimator_by_type\u001b[49m\u001b[43m(\u001b[49m\u001b[43mleast_square_type\u001b[49m\u001b[43m,\u001b[49m\u001b[43m \u001b[49m\u001b[43mX\u001b[49m\u001b[43m,\u001b[49m\u001b[43m \u001b[49m\u001b[43my\u001b[49m\u001b[43m)\u001b[49m\n\u001b[1;32m     35\u001b[0m y_pred \u001b[38;5;241m=\u001b[39m X \u001b[38;5;241m@\u001b[39m estimator\n\u001b[1;32m     37\u001b[0m metric \u001b[38;5;241m=\u001b[39m criteria_metrics(criteria_type, y, y_pred, X, estimator\u001b[38;5;241m.\u001b[39mshape[\u001b[38;5;241m0\u001b[39m])\n",
      "Cell \u001b[0;32mIn[41], line 23\u001b[0m, in \u001b[0;36mestimator_by_type\u001b[0;34m(type, X, y)\u001b[0m\n\u001b[1;32m     21\u001b[0m \u001b[38;5;28;01mdef\u001b[39;00m \u001b[38;5;21mestimator_by_type\u001b[39m(\u001b[38;5;28mtype\u001b[39m, X, y):\n\u001b[1;32m     22\u001b[0m     \u001b[38;5;28;01mif\u001b[39;00m \u001b[38;5;28mtype\u001b[39m \u001b[38;5;241m==\u001b[39m \u001b[38;5;124m'\u001b[39m\u001b[38;5;124mOLS\u001b[39m\u001b[38;5;124m'\u001b[39m:\n\u001b[0;32m---> 23\u001b[0m         \u001b[38;5;28;01mreturn\u001b[39;00m \u001b[43mnp\u001b[49m\u001b[38;5;241;43m.\u001b[39;49m\u001b[43mlinalg\u001b[49m\u001b[38;5;241;43m.\u001b[39;49m\u001b[43mpinv\u001b[49m\u001b[43m(\u001b[49m\u001b[43mX\u001b[49m\u001b[43m)\u001b[49m \u001b[38;5;241m@\u001b[39m y\n\u001b[1;32m     24\u001b[0m     \u001b[38;5;28;01melif\u001b[39;00m \u001b[38;5;28mtype\u001b[39m \u001b[38;5;241m==\u001b[39m \u001b[38;5;124m'\u001b[39m\u001b[38;5;124mRLS\u001b[39m\u001b[38;5;124m'\u001b[39m:\n\u001b[1;32m     25\u001b[0m         \u001b[38;5;28;01mreturn\u001b[39;00m np\u001b[38;5;241m.\u001b[39mlinalg\u001b[38;5;241m.\u001b[39minv(X\u001b[38;5;241m.\u001b[39mT \u001b[38;5;241m@\u001b[39m X \u001b[38;5;241m+\u001b[39m \u001b[38;5;241m0.01\u001b[39m \u001b[38;5;241m*\u001b[39m np\u001b[38;5;241m.\u001b[39meye(X\u001b[38;5;241m.\u001b[39mshape[\u001b[38;5;241m1\u001b[39m])) \u001b[38;5;241m@\u001b[39m X\u001b[38;5;241m.\u001b[39mT \u001b[38;5;241m@\u001b[39m y\n",
      "File \u001b[0;32m<__array_function__ internals>:200\u001b[0m, in \u001b[0;36mpinv\u001b[0;34m(*args, **kwargs)\u001b[0m\n",
      "File \u001b[0;32m~/Documentos/Mestrado/ICA-TCs-2023/.env/lib/python3.8/site-packages/numpy/linalg/linalg.py:1983\u001b[0m, in \u001b[0;36mpinv\u001b[0;34m(a, rcond, hermitian)\u001b[0m\n\u001b[1;32m   1981\u001b[0m     \u001b[38;5;28;01mreturn\u001b[39;00m wrap(res)\n\u001b[1;32m   1982\u001b[0m a \u001b[38;5;241m=\u001b[39m a\u001b[38;5;241m.\u001b[39mconjugate()\n\u001b[0;32m-> 1983\u001b[0m u, s, vt \u001b[38;5;241m=\u001b[39m \u001b[43msvd\u001b[49m\u001b[43m(\u001b[49m\u001b[43ma\u001b[49m\u001b[43m,\u001b[49m\u001b[43m \u001b[49m\u001b[43mfull_matrices\u001b[49m\u001b[38;5;241;43m=\u001b[39;49m\u001b[38;5;28;43;01mFalse\u001b[39;49;00m\u001b[43m,\u001b[49m\u001b[43m \u001b[49m\u001b[43mhermitian\u001b[49m\u001b[38;5;241;43m=\u001b[39;49m\u001b[43mhermitian\u001b[49m\u001b[43m)\u001b[49m\n\u001b[1;32m   1985\u001b[0m \u001b[38;5;66;03m# discard small singular values\u001b[39;00m\n\u001b[1;32m   1986\u001b[0m cutoff \u001b[38;5;241m=\u001b[39m rcond[\u001b[38;5;241m.\u001b[39m\u001b[38;5;241m.\u001b[39m\u001b[38;5;241m.\u001b[39m, newaxis] \u001b[38;5;241m*\u001b[39m amax(s, axis\u001b[38;5;241m=\u001b[39m\u001b[38;5;241m-\u001b[39m\u001b[38;5;241m1\u001b[39m, keepdims\u001b[38;5;241m=\u001b[39m\u001b[38;5;28;01mTrue\u001b[39;00m)\n",
      "File \u001b[0;32m<__array_function__ internals>:200\u001b[0m, in \u001b[0;36msvd\u001b[0;34m(*args, **kwargs)\u001b[0m\n",
      "File \u001b[0;32m~/Documentos/Mestrado/ICA-TCs-2023/.env/lib/python3.8/site-packages/numpy/linalg/linalg.py:1642\u001b[0m, in \u001b[0;36msvd\u001b[0;34m(a, full_matrices, compute_uv, hermitian)\u001b[0m\n\u001b[1;32m   1639\u001b[0m         gufunc \u001b[38;5;241m=\u001b[39m _umath_linalg\u001b[38;5;241m.\u001b[39msvd_n_s\n\u001b[1;32m   1641\u001b[0m signature \u001b[38;5;241m=\u001b[39m \u001b[38;5;124m'\u001b[39m\u001b[38;5;124mD->DdD\u001b[39m\u001b[38;5;124m'\u001b[39m \u001b[38;5;28;01mif\u001b[39;00m isComplexType(t) \u001b[38;5;28;01melse\u001b[39;00m \u001b[38;5;124m'\u001b[39m\u001b[38;5;124md->ddd\u001b[39m\u001b[38;5;124m'\u001b[39m\n\u001b[0;32m-> 1642\u001b[0m u, s, vh \u001b[38;5;241m=\u001b[39m \u001b[43mgufunc\u001b[49m\u001b[43m(\u001b[49m\u001b[43ma\u001b[49m\u001b[43m,\u001b[49m\u001b[43m \u001b[49m\u001b[43msignature\u001b[49m\u001b[38;5;241;43m=\u001b[39;49m\u001b[43msignature\u001b[49m\u001b[43m,\u001b[49m\u001b[43m \u001b[49m\u001b[43mextobj\u001b[49m\u001b[38;5;241;43m=\u001b[39;49m\u001b[43mextobj\u001b[49m\u001b[43m)\u001b[49m\n\u001b[1;32m   1643\u001b[0m u \u001b[38;5;241m=\u001b[39m u\u001b[38;5;241m.\u001b[39mastype(result_t, copy\u001b[38;5;241m=\u001b[39m\u001b[38;5;28;01mFalse\u001b[39;00m)\n\u001b[1;32m   1644\u001b[0m s \u001b[38;5;241m=\u001b[39m s\u001b[38;5;241m.\u001b[39mastype(_realType(result_t), copy\u001b[38;5;241m=\u001b[39m\u001b[38;5;28;01mFalse\u001b[39;00m)\n",
      "File \u001b[0;32m~/Documentos/Mestrado/ICA-TCs-2023/.env/lib/python3.8/site-packages/numpy/linalg/linalg.py:98\u001b[0m, in \u001b[0;36m_raise_linalgerror_svd_nonconvergence\u001b[0;34m(err, flag)\u001b[0m\n\u001b[1;32m     97\u001b[0m \u001b[38;5;28;01mdef\u001b[39;00m \u001b[38;5;21m_raise_linalgerror_svd_nonconvergence\u001b[39m(err, flag):\n\u001b[0;32m---> 98\u001b[0m     \u001b[38;5;28;01mraise\u001b[39;00m LinAlgError(\u001b[38;5;124m\"\u001b[39m\u001b[38;5;124mSVD did not converge\u001b[39m\u001b[38;5;124m\"\u001b[39m)\n",
      "\u001b[0;31mLinAlgError\u001b[0m: SVD did not converge"
     ]
    }
   ],
   "source": [
    "# R2 para k = [1, 10]\n",
    "degrees_list = [i for i in range(1, 10)]\n",
    "metrics = train_multi_linear_regressor(X=vel, y=Pot, least_square_type=\"OLS\", criteria_type=\"R2\", degrees_list=degrees_list)\n",
    "\n",
    "plt.plot(degrees_list, metrics, color='red', label='Comparison')\n",
    "plt.title('Multiple Linear Regression (Ordinary Least Squares)')\n",
    "plt.legend()\n",
    "plt.xlim(0, 120)\n",
    "plt.ylim(0, 120)\n",
    "plt.show()"
   ]
  },
  {
   "cell_type": "code",
   "execution_count": null,
   "id": "0960b92c-0098-4988-8477-a21b9a797f28",
   "metadata": {},
   "outputs": [],
   "source": []
  }
 ],
 "metadata": {
  "kernelspec": {
   "display_name": "Python (myenv)",
   "language": "python",
   "name": ".env"
  },
  "language_info": {
   "codemirror_mode": {
    "name": "ipython",
    "version": 3
   },
   "file_extension": ".py",
   "mimetype": "text/x-python",
   "name": "python",
   "nbconvert_exporter": "python",
   "pygments_lexer": "ipython3",
   "version": "3.8.10"
  }
 },
 "nbformat": 4,
 "nbformat_minor": 5
}
