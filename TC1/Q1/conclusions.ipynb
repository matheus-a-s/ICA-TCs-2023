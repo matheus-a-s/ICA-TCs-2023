{
 "cells": [
  {
   "cell_type": "markdown",
   "id": "2a10cca1-e5af-4dfb-aefc-b164072f4d30",
   "metadata": {},
   "source": [
    "# Trabalho Computacional 1 \n",
    "- **Inteligência Computacional Aplicada**\n",
    "- **Aluno**: Matheus Araujo dos Santos (matheus.santos@lapisco.ifce.edu.br)\n",
    "- Programa de Pós-Graduacão em Engenharia Elétrica (PPGEE)\n",
    "- Universidade Federal do Ceará, *Campus* do Pici, Fortaleza, Ceará, Brasil"
   ]
  },
  {
   "cell_type": "markdown",
   "id": "099035e1-3148-4483-b219-f12d7af143ce",
   "metadata": {},
   "source": [
    "# Questão 1 - Conclusões\r\n",
    "\r\n",
    "Comparando todos os resultados obtidos das taxas de erro com os resultados de LeCun *et al.* [1], formulou-se a tabela a seguir.\r\n",
    "\r\n",
    "| Modelo                       | Taxa de Erro | Modelo Comparável                                   | Taxa de Erro Comparável |\r\n",
    "|------------------------------|--------------|-----------------------------------------------------|-------------------------|\r\n",
    "| Classificador Linear         | 0.1397       | linear classifier (1-layer NN) - none               | 0.12                    |\r\n",
    "| Perceptron Logístico         | 0.0839       | linear classifier (1-layer NN) - none               | 0.12                    |\r\n",
    "| Classificador Linear com PCA | 0.1386       | linear classifier (1-layer NN) - none               | 0.12                    |\r\n",
    "| Perceptron Logístico com PCA | 0.1316       | linear classifier (1-layer NN) - none               | 0.12                    |\r\n",
    "| MLP                          | 0.0684       | 2-layer NN, 300 hidden units, mean square error     | 0.047                   |\r\n",
    "| MLP com PCA                  | 0.0488       | 2-layer NN, 300 hidden units, mean square error     | 0.047                   |\r\n",
    "| Comitê de 25 Perceptrons     | 0.0837       | committee of 25 NN 784-800-10 [elastic distortions] | 0.0039                  |\r\n",
    "| Comitê de 25 MLP's           | 0.0831       | committee of 25 NN 784-800-10 [elastic distortions] | 0.0039                  |\r\n",
    "| Naive Bayes                  | 0.1635       | ----                                                | ----                    |\r\n",
    "| KNN                          | 0.0295       | ----                                                | ----                    |\r\n",
    "\r\n",
    "Analisando a tabela, é notável que algoritmos com maior custo computacional, como é o caso do MLP, possui também uma das menores taxas de erro, em contrapartida a modelos mais simples, como é o caso do classificador linear de mínimos quadrados. Da mesma forma, os comitês tiveram bom desempenho, pois é um método que diminui o erro de generalização que pode, porventura, ocorrer.\r\n",
    "\r\n",
    "Também é visível que o uso do PCA não aumentou as taxas de erro, provando que mesmo reduzindo o número de atributos e a dimensão do conjunto de dados, ele mantém as principais componentes que melhor descrevem cada um dos dados, mantendo um bom padrão de classificação.\r\n",
    "\r\n",
    "O KNN também teve um bom desempenho, apesar do baixo custo computacional que se resume a cálculos de distância espacial entre as amostras.\r\n",
    "\r\n",
    "Por fim, com exceção dos comitês, as taxas de erro foram equiparáveis com os erros obtidos pelos modelos de LeCun *et al.* [1], por vezes sendo menores, como no caso do Perceptron Logístico, ou com baixa diferença, como nos casos do Classificador Linear e MLP.\r\n",
    "\r\n",
    "**Referências:**\r\n",
    "1. Y. LeCun, L. Bottou, Y. Bengio, and P. Haffner. \"Gradient-based learning applied to document recognition.\" *Proceedings of the IEEE*, 86(11):2278-2324, November 1998.ember 1998."
   ]
  }
 ],
 "metadata": {
  "kernelspec": {
   "display_name": ".env",
   "language": "python",
   "name": ".env"
  },
  "language_info": {
   "codemirror_mode": {
    "name": "ipython",
    "version": 3
   },
   "file_extension": ".py",
   "mimetype": "text/x-python",
   "name": "python",
   "nbconvert_exporter": "python",
   "pygments_lexer": "ipython3",
   "version": "3.11.0"
  }
 },
 "nbformat": 4,
 "nbformat_minor": 5
}
