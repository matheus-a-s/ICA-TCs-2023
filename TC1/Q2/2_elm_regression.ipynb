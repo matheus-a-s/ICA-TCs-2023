{
 "cells": [
  {
   "cell_type": "markdown",
   "id": "16627713-7742-4fed-995c-6de7a04bcb8d",
   "metadata": {},
   "source": [
    "# Trabalho Computacional 1 \n",
    "- **Inteligência Computacional Aplicada**\n",
    "- **Aluno**: Matheus Araujo dos Santos (matheus.santos@lapisco.ifce.edu.br)\n",
    "- Programa de Pós-Graduacão em Engenharia Elétrica (PPGEE)\n",
    "- Universidade Federal do Ceará, *Campus* do Pici, Fortaleza, Ceará, Brasil"
   ]
  },
  {
   "cell_type": "markdown",
   "id": "7b878b2b-9d6a-4603-98b8-b6ba3f971c6e",
   "metadata": {},
   "source": [
    "## Questão 2.2 - Regressão com Extreme Learning Machine (ELM)\n",
    "\n",
    "Semelhante à MLP, tem-se a Máquina de Aprendizado Extremo, ou *Extreme Learning Machine* (ELM), que consiste em uma arquitetura de rede neural do tipo *feedforward*, i. e., sem realimentação (ou *backpropagation*) [1]. Isso resulta em uma rede neural tão eficaz quanto à MLP e com treinamento bem mais rápido. \n",
    "\n",
    "Além disso, nessa implementação, a ELM usa o método dos mínimos quadrados no cálculo da pseudo-inversa da matriz dos dados, o que torna esse algoritmo ainda mais rápido [1].\n",
    "\n",
    "Para essa implementação, utilizou-se 3 mil neurônios na camada oculta e função de ativação sigmóide na entrada e ativação linear na saída (por ser um problema de regressão).\n",
    "\n",
    "### Sobre o dataset\n",
    "A regressão foi feita para o *dataset* ***Real estate valuation data set***, de estimação de preços de imóveis, com base em fatores de latitude, longitude, lojas de conveniência próximas e etc [2]. O único pré-processamento utilizado foi a concatenação da matriz de atributos com um vetor de viés (*bias*), resultando em 7 variáveis regressoras. O dataset tem um total de 414 dados.\n",
    "\n",
    "### Resultados\n",
    "Dessa forma, após as devidas transformações matriciais, obteve-se um R2 de **0.996** para o modelo regressor de ELM (bem maior do que o obtido para o regressor linear). A reta de predição, sobreposta aos dados, pode ser vista na figura abaixo.\n",
    "\n",
    "**Referências:**\n",
    "1. G. B. Huang, Q. Y. Zhu, and C. K. Siew. Extreme learning machine: Theory and applications. *Neurocomputing*, 70(1–3):489–501, 2006.\n",
    "2. Yeh, I. C., & Hsu, T. K., Building real estate valuation models with comparative approach through case-based reasoning. Applied Soft Computing, 65, 260-271, 2018."
   ]
  },
  {
   "cell_type": "code",
   "execution_count": 7,
   "id": "5a33e8cb-988b-4ee0-b915-ab693f58cb47",
   "metadata": {},
   "outputs": [
    {
     "data": {
      "text/html": [
       "<div>\n",
       "<style scoped>\n",
       "    .dataframe tbody tr th:only-of-type {\n",
       "        vertical-align: middle;\n",
       "    }\n",
       "\n",
       "    .dataframe tbody tr th {\n",
       "        vertical-align: top;\n",
       "    }\n",
       "\n",
       "    .dataframe thead th {\n",
       "        text-align: right;\n",
       "    }\n",
       "</style>\n",
       "<table border=\"1\" class=\"dataframe\">\n",
       "  <thead>\n",
       "    <tr style=\"text-align: right;\">\n",
       "      <th></th>\n",
       "      <th>No</th>\n",
       "      <th>X1 transaction date</th>\n",
       "      <th>X2 house age</th>\n",
       "      <th>X3 distance to the nearest MRT station</th>\n",
       "      <th>X4 number of convenience stores</th>\n",
       "      <th>X5 latitude</th>\n",
       "      <th>X6 longitude</th>\n",
       "      <th>Y house price of unit area</th>\n",
       "    </tr>\n",
       "  </thead>\n",
       "  <tbody>\n",
       "    <tr>\n",
       "      <th>0</th>\n",
       "      <td>1</td>\n",
       "      <td>2012.916667</td>\n",
       "      <td>32.0</td>\n",
       "      <td>84.87882</td>\n",
       "      <td>10</td>\n",
       "      <td>24.98298</td>\n",
       "      <td>121.54024</td>\n",
       "      <td>37.9</td>\n",
       "    </tr>\n",
       "    <tr>\n",
       "      <th>1</th>\n",
       "      <td>2</td>\n",
       "      <td>2012.916667</td>\n",
       "      <td>19.5</td>\n",
       "      <td>306.59470</td>\n",
       "      <td>9</td>\n",
       "      <td>24.98034</td>\n",
       "      <td>121.53951</td>\n",
       "      <td>42.2</td>\n",
       "    </tr>\n",
       "    <tr>\n",
       "      <th>2</th>\n",
       "      <td>3</td>\n",
       "      <td>2013.583333</td>\n",
       "      <td>13.3</td>\n",
       "      <td>561.98450</td>\n",
       "      <td>5</td>\n",
       "      <td>24.98746</td>\n",
       "      <td>121.54391</td>\n",
       "      <td>47.3</td>\n",
       "    </tr>\n",
       "    <tr>\n",
       "      <th>3</th>\n",
       "      <td>4</td>\n",
       "      <td>2013.500000</td>\n",
       "      <td>13.3</td>\n",
       "      <td>561.98450</td>\n",
       "      <td>5</td>\n",
       "      <td>24.98746</td>\n",
       "      <td>121.54391</td>\n",
       "      <td>54.8</td>\n",
       "    </tr>\n",
       "    <tr>\n",
       "      <th>4</th>\n",
       "      <td>5</td>\n",
       "      <td>2012.833333</td>\n",
       "      <td>5.0</td>\n",
       "      <td>390.56840</td>\n",
       "      <td>5</td>\n",
       "      <td>24.97937</td>\n",
       "      <td>121.54245</td>\n",
       "      <td>43.1</td>\n",
       "    </tr>\n",
       "    <tr>\n",
       "      <th>...</th>\n",
       "      <td>...</td>\n",
       "      <td>...</td>\n",
       "      <td>...</td>\n",
       "      <td>...</td>\n",
       "      <td>...</td>\n",
       "      <td>...</td>\n",
       "      <td>...</td>\n",
       "      <td>...</td>\n",
       "    </tr>\n",
       "    <tr>\n",
       "      <th>409</th>\n",
       "      <td>410</td>\n",
       "      <td>2013.000000</td>\n",
       "      <td>13.7</td>\n",
       "      <td>4082.01500</td>\n",
       "      <td>0</td>\n",
       "      <td>24.94155</td>\n",
       "      <td>121.50381</td>\n",
       "      <td>15.4</td>\n",
       "    </tr>\n",
       "    <tr>\n",
       "      <th>410</th>\n",
       "      <td>411</td>\n",
       "      <td>2012.666667</td>\n",
       "      <td>5.6</td>\n",
       "      <td>90.45606</td>\n",
       "      <td>9</td>\n",
       "      <td>24.97433</td>\n",
       "      <td>121.54310</td>\n",
       "      <td>50.0</td>\n",
       "    </tr>\n",
       "    <tr>\n",
       "      <th>411</th>\n",
       "      <td>412</td>\n",
       "      <td>2013.250000</td>\n",
       "      <td>18.8</td>\n",
       "      <td>390.96960</td>\n",
       "      <td>7</td>\n",
       "      <td>24.97923</td>\n",
       "      <td>121.53986</td>\n",
       "      <td>40.6</td>\n",
       "    </tr>\n",
       "    <tr>\n",
       "      <th>412</th>\n",
       "      <td>413</td>\n",
       "      <td>2013.000000</td>\n",
       "      <td>8.1</td>\n",
       "      <td>104.81010</td>\n",
       "      <td>5</td>\n",
       "      <td>24.96674</td>\n",
       "      <td>121.54067</td>\n",
       "      <td>52.5</td>\n",
       "    </tr>\n",
       "    <tr>\n",
       "      <th>413</th>\n",
       "      <td>414</td>\n",
       "      <td>2013.500000</td>\n",
       "      <td>6.5</td>\n",
       "      <td>90.45606</td>\n",
       "      <td>9</td>\n",
       "      <td>24.97433</td>\n",
       "      <td>121.54310</td>\n",
       "      <td>63.9</td>\n",
       "    </tr>\n",
       "  </tbody>\n",
       "</table>\n",
       "<p>414 rows × 8 columns</p>\n",
       "</div>"
      ],
      "text/plain": [
       "      No  X1 transaction date  X2 house age  \\\n",
       "0      1          2012.916667          32.0   \n",
       "1      2          2012.916667          19.5   \n",
       "2      3          2013.583333          13.3   \n",
       "3      4          2013.500000          13.3   \n",
       "4      5          2012.833333           5.0   \n",
       "..   ...                  ...           ...   \n",
       "409  410          2013.000000          13.7   \n",
       "410  411          2012.666667           5.6   \n",
       "411  412          2013.250000          18.8   \n",
       "412  413          2013.000000           8.1   \n",
       "413  414          2013.500000           6.5   \n",
       "\n",
       "     X3 distance to the nearest MRT station  X4 number of convenience stores  \\\n",
       "0                                  84.87882                               10   \n",
       "1                                 306.59470                                9   \n",
       "2                                 561.98450                                5   \n",
       "3                                 561.98450                                5   \n",
       "4                                 390.56840                                5   \n",
       "..                                      ...                              ...   \n",
       "409                              4082.01500                                0   \n",
       "410                                90.45606                                9   \n",
       "411                               390.96960                                7   \n",
       "412                               104.81010                                5   \n",
       "413                                90.45606                                9   \n",
       "\n",
       "     X5 latitude  X6 longitude  Y house price of unit area  \n",
       "0       24.98298     121.54024                        37.9  \n",
       "1       24.98034     121.53951                        42.2  \n",
       "2       24.98746     121.54391                        47.3  \n",
       "3       24.98746     121.54391                        54.8  \n",
       "4       24.97937     121.54245                        43.1  \n",
       "..           ...           ...                         ...  \n",
       "409     24.94155     121.50381                        15.4  \n",
       "410     24.97433     121.54310                        50.0  \n",
       "411     24.97923     121.53986                        40.6  \n",
       "412     24.96674     121.54067                        52.5  \n",
       "413     24.97433     121.54310                        63.9  \n",
       "\n",
       "[414 rows x 8 columns]"
      ]
     },
     "execution_count": 7,
     "metadata": {},
     "output_type": "execute_result"
    }
   ],
   "source": [
    "import numpy as np\n",
    "import pandas as pd\n",
    "import matplotlib.pyplot as plt\n",
    "\n",
    "# Carregando dataset\n",
    "dataset = pd.read_excel(\"dataset/Real estate valuation data set.xlsx\", engine='openpyxl')\n",
    "dataset"
   ]
  },
  {
   "cell_type": "code",
   "execution_count": 8,
   "id": "d0be0b73-5e17-4c9f-955e-2e9e9555744e",
   "metadata": {},
   "outputs": [
    {
     "data": {
      "text/plain": [
       "((414, 7), (414, 1))"
      ]
     },
     "execution_count": 8,
     "metadata": {},
     "output_type": "execute_result"
    }
   ],
   "source": [
    "data = np.array(dataset.iloc[:, :].T)\n",
    "\n",
    "# Separando X e y\n",
    "X_raw = data[1:-1].T\n",
    "X = np.column_stack((X_raw, np.ones(X_raw.shape[0]))) # Adicionar uma coluna de 1s para considerar o termo de bias (intercept)\n",
    "y = data[-1].reshape(-1, 1) # Vetorizando\n",
    "\n",
    "X.shape, y.shape"
   ]
  },
  {
   "cell_type": "code",
   "execution_count": 9,
   "id": "ddf5da15-6632-4b5b-b4cf-6f51867b38d5",
   "metadata": {},
   "outputs": [],
   "source": [
    "# Funções de ativação\n",
    "def activate_functions(type, matrix):\n",
    "    if type == 'sigmoid':\n",
    "        return 1 / (1 + np.exp(-matrix))\n",
    "    elif type == 'softmax':\n",
    "        exp_matrix = np.exp(matrix - np.max(matrix, axis=1, keepdims=True))\n",
    "        return exp_matrix / np.sum(exp_matrix, axis=1, keepdims=True)   \n",
    "    elif type == 'tanh':\n",
    "        return np.tanh(matrix)\n",
    "\n",
    "# Função de treino do regressor ELM\n",
    "def train_elm_regression(X, y, n_neurons_hlayer):\n",
    "    n_classes = y.shape[1]\n",
    "    n_features = X.shape[1]\n",
    "\n",
    "    w_input = np.random.randn(n_features, n_neurons_hlayer) * 0.1\n",
    "    w_output = np.random.randn(n_neurons_hlayer, 1) * 0.1\n",
    "\n",
    "    # Forward\n",
    "    Zin = X @ w_input\n",
    "    result_in = activate_functions('sigmoid', Zin) # Ativação sigmóide\n",
    "\n",
    "    Zm = np.linalg.pinv(result_in) @ y # Matriz de pesos M\n",
    "\n",
    "    # Forward\n",
    "    Zout = result_in @ Zm\n",
    "    result_out = Zout # Ativação linear\n",
    "\n",
    "    return result_out"
   ]
  },
  {
   "cell_type": "code",
   "execution_count": 10,
   "id": "a88dac7a-dc92-4821-8494-761d1b850851",
   "metadata": {},
   "outputs": [
    {
     "name": "stderr",
     "output_type": "stream",
     "text": [
      "/tmp/ipykernel_76942/565507851.py:4: RuntimeWarning: overflow encountered in exp\n",
      "  return 1 / (1 + np.exp(-matrix))\n"
     ]
    },
    {
     "name": "stdout",
     "output_type": "stream",
     "text": [
      "(414, 1)\n",
      "(414, 1)\n"
     ]
    }
   ],
   "source": [
    "# Realizar a predição\n",
    "y_pred = train_elm_regression(X, y, n_neurons_hlayer=3000)\n",
    "\n",
    "print(y_pred.shape)\n",
    "print(y.shape)"
   ]
  },
  {
   "cell_type": "code",
   "execution_count": 11,
   "id": "053cf70e-c230-45d9-ac74-968e45312228",
   "metadata": {},
   "outputs": [
    {
     "name": "stdout",
     "output_type": "stream",
     "text": [
      "R²: 0.9966925782964373\n"
     ]
    }
   ],
   "source": [
    "from sklearn.metrics import r2_score\n",
    "\n",
    "# Avaliar o desempenho do regressor\n",
    "r2 = r2_score(y, y_pred)\n",
    "\n",
    "print(\"R²: {}\".format(r2))"
   ]
  },
  {
   "cell_type": "code",
   "execution_count": 12,
   "id": "a7819ef4-f014-4111-81ba-0b054a258969",
   "metadata": {},
   "outputs": [
    {
     "data": {
      "image/png": "[encoded data removed]",
      "text/plain": [
       "<Figure size 640x480 with 1 Axes>"
      ]
     },
     "metadata": {},
     "output_type": "display_data"
    }
   ],
   "source": [
    "plt.scatter(y, y_pred, label='Dataset')\n",
    "plt.plot([np.min(y), np.max(y)], [np.min(y_pred), np.max(y_pred)], color='red', label='Predict')\n",
    "plt.title('ELM Regression')\n",
    "plt.legend()\n",
    "plt.xlim(0, 120)\n",
    "plt.ylim(0, 120)\n",
    "plt.show()"
   ]
  },
  {
   "cell_type": "code",
   "execution_count": null,
   "id": "d5bdea4c-099b-48e6-96e1-6f45bb25ea90",
   "metadata": {},
   "outputs": [],
   "source": []
  }
 ],
 "metadata": {
  "kernelspec": {
   "display_name": ".env",
   "language": "python",
   "name": ".env"
  },
  "language_info": {
   "codemirror_mode": {
    "name": "ipython",
    "version": 3
   },
   "file_extension": ".py",
   "mimetype": "text/x-python",
   "name": "python",
   "nbconvert_exporter": "python",
   "pygments_lexer": "ipython3",
   "version": "3.11.0 (main, Oct 24 2022, 18:26:48) [MSC v.1933 64 bit (AMD64)]"
  }
 },
 "nbformat": 4,
 "nbformat_minor": 5
}
