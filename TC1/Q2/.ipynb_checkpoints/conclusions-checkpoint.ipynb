{
 "cells": [
  {
   "cell_type": "markdown",
   "id": "959e48ef-dd92-4667-a807-ca0e781d837c",
   "metadata": {},
   "source": [
    "# Trabalho Computacional 1 \n",
    "- **Inteligência Computacional Aplicada**\n",
    "- **Aluno**: Matheus Araujo dos Santos (matheus.santos@lapisco.ifce.edu.br)\n",
    "- Programa de Pós-Graduacão em Engenharia Elétrica (PPGEE)\n",
    "- Universidade Federal do Ceará, *Campus* do Pici, Fortaleza, Ceará, Brasil"
   ]
  },
  {
   "cell_type": "markdown",
   "id": "3e140c37-79b7-4295-ae89-ac592deff194",
   "metadata": {},
   "source": [
    "# Questão 2 - Conclusões\r\n",
    "\r\n",
    "Comparando todos os resultados obtidos de R2 com os resultados de Yeh *et al.* [1], formulou-se a tabela a seguir.\r\n",
    "\r\n",
    "| Modelo                          | R2    | Modelo Comparável                 | R2 Comparável |\r\n",
    "|---------------------------------|-------|-----------------------------------|---------------|\r\n",
    "| Regressão Linear Múltipla (MQO) | 0.582 | Quantitative comparative approach | 0.582         |\r\n",
    "| Regressão Linear Múltipla (MQR) | 0.576 | Quantitative comparative approach | 0.582         |\r\n",
    "| Regressão com ELM               | 0.996 | Multivariate regression models    | 0.392         |\r\n",
    "| Regressão com MLP               | 0.686 | Neural network models             | 0.541         |\r\n",
    "\r\n",
    "Analisando a tabela com os resultados, fica claro que o regreessor Extreme Learning Machine obteve o melhor resultado entre os quatro modelos implementados e os três modelos da literatura, alcançando o R2 bem próximo de 1. E apesar do bom desempenho, foi de rápido treinamento e rápida predição do conjunto de dados.\r\n",
    "\r\n",
    "O MLP foi o segundo melhor modelo, porém bem inferior ao ELM, e de treinamento lento devido a retropropagação do erro.\r\n",
    "\r\n",
    "As regressões lineares obtiveram resultados parecidos e bem próximos aos resultados da literatura. Mas ao visualizar as curvas se adequando aos dados, é perceptível que elas não se adequam de forma consistente ao conjunto de dados. \r\n",
    "\r\n",
    "Outras métricas poderiam ter sido usadas na comparação, como é o caso da raíz do erro médio quadrático (RMSE), mas foram deixadas de lado para enfoque no R2 (coeficiente de determinação múltipla), que é a medida padrão para adequação de dados a uma curva de regressão.\r\n",
    "\r\n",
    "**Referências:**\r\n",
    "1. Yeh, I. C., & Hsu, T. K., Building real estate valuation models with comparative approach through case-based reasoning. Applied Soft Computing, 65, 260-271, 2018.2018."
   ]
  }
 ],
 "metadata": {
  "kernelspec": {
   "display_name": ".env",
   "language": "python",
   "name": ".env"
  },
  "language_info": {
   "codemirror_mode": {
    "name": "ipython",
    "version": 3
   },
   "file_extension": ".py",
   "mimetype": "text/x-python",
   "name": "python",
   "nbconvert_exporter": "python",
   "pygments_lexer": "ipython3",
   "version": "3.11.0"
  }
 },
 "nbformat": 4,
 "nbformat_minor": 5
}
